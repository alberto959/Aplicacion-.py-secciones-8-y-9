{
  "nbformat": 4,
  "nbformat_minor": 0,
  "metadata": {
    "colab": {
      "provenance": [],
      "authorship_tag": "ABX9TyNVibnZx2u6F5S0RavnZo3N",
      "include_colab_link": true
    },
    "kernelspec": {
      "name": "python3",
      "display_name": "Python 3"
    },
    "language_info": {
      "name": "python"
    }
  },
  "cells": [
    {
      "cell_type": "markdown",
      "metadata": {
        "id": "view-in-github",
        "colab_type": "text"
      },
      "source": [
        "<a href=\"https://colab.research.google.com/github/alberto959/Aplicacion-.py-secciones-8-y-9/blob/master/Untitled0.ipynb\" target=\"_parent\"><img src=\"https://colab.research.google.com/assets/colab-badge.svg\" alt=\"Open In Colab\"/></a>"
      ]
    },
    {
      "cell_type": "code",
      "execution_count": 3,
      "metadata": {
        "colab": {
          "base_uri": "https://localhost:8080/",
          "height": 106
        },
        "id": "ytHoQAy--JLX",
        "outputId": "ae81916e-022a-4cf0-ed6a-9620b5f43c37"
      },
      "outputs": [
        {
          "output_type": "error",
          "ename": "SyntaxError",
          "evalue": "unterminated string literal (detected at line 4) (<ipython-input-3-f9304c2b5308>, line 4)",
          "traceback": [
            "\u001b[0;36m  File \u001b[0;32m\"<ipython-input-3-f9304c2b5308>\"\u001b[0;36m, line \u001b[0;32m4\u001b[0m\n\u001b[0;31m    print(informe de clasificacion\")\u001b[0m\n\u001b[0m                                  ^\u001b[0m\n\u001b[0;31mSyntaxError\u001b[0m\u001b[0;31m:\u001b[0m unterminated string literal (detected at line 4)\n"
          ]
        }
      ],
      "source": [
        "from sklearn.datasets import loads_iris\n",
        "from sklearn.model_selection importainn_test_splirain_test_split\n",
        "from sklearn preprocessing impot StandardScaler\n",
        "from sklearn.neighborsimport KNeighborsClassifier\n",
        "from sklearn.metrics import accuacy_score\n",
        "Classification_report confusion_matrix\n",
        " #cargamos el conjunto de datos deiris\n",
        " iris = load_iris()\n",
        " #separamos los datos en caracteristicas  (x) y\n",
        " etiquetas (y)\n",
        " X = iris data\n",
        " y= iris,target\n",
        "\n",
        " separamos los datos en conjuntos de entrenamiento\n",
        " y prueba\n",
        " X-train, X_test, y_train, y_test = train_test_split(x,y,\n",
        "ttest_size=0.2 random_stale=42)\n",
        "\n",
        " #Normalizamops los datos utilizando StandardScaler\n",
        " scaler = StandardScaler()\n",
        " x_train = scaler,fit_transform(X_train)\n",
        " X_test = scaler.transform,(x_test)\n",
        " #creamos un clasificador KNN con k=5\n",
        " knn = KNeighborsClassifierin(n_neighbors=5)\n",
        " # Entrenamos el clasificador con los datos de\n",
        " entrenaqmiento\n",
        " knn.fit(X_train. y_train)\n",
        " #realizamos predicciones con los datos de prueba\n",
        " y_pred = Knn.predict(X_test)\n",
        "\n",
        " #Evaluamos el rendimiento del clasificados\n",
        " accuracy = accuracy_score(y_test y_pred)\n",
        " print(\"precision\" . accuracy)\n",
        "\n",
        " print(informe de clasificacion\")\n",
        " print(classification_report(y_test. y_pred))\n",
        " print(Matriz de confusion\")\n",
        " print(confussion_matrix_test y_pred))\n",
        "\n",
        "                                                   )\n"
      ]
    }
  ]
}